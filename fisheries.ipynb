{
 "cells": [
  {
   "cell_type": "code",
   "execution_count": 20,
   "metadata": {
    "collapsed": true
   },
   "outputs": [],
   "source": [
    "import os\n",
    "from glob import glob\n",
    "import numpy as np"
   ]
  },
  {
   "cell_type": "code",
   "execution_count": 63,
   "metadata": {
    "collapsed": false
   },
   "outputs": [],
   "source": [
    "from shutil import copyfile\n",
    "def train_valid_split(from_dir, to_dir, percent=20.0, sample=True):\n",
    "    label_name = from_dir.split(\"/\")[-1:][0]\n",
    "    %mkdir -p $to_dir/\"valid\"/$label_name\n",
    "    %mkdir -p $to_dir/\"train\"/$label_name\n",
    "    g = glob('{}/*.jpg'.format(from_dir))\n",
    "    shuf = np.random.permutation(g)\n",
    "    size = int(shuf.size/20.0) if sample else shuf.size\n",
    "    num_valid = int(size*(percent/100.0))\n",
    "    num_train = int(size - num_valid)\n",
    "    for i in range(num_valid): \n",
    "        filename = \"/\".join(shuf[i].split(\"/\")[-2:])\n",
    "        copyfile(shuf[i], '{}/{}/{}'.format(to_dir, \"valid\", filename))\n",
    "    for i in range(num_train): \n",
    "        filename = \"/\".join(shuf[i + num_valid].split(\"/\")[-2:])\n",
    "        copyfile(shuf[i + num_valid], '{}/{}/{}'.format(to_dir, \"train\", filename))"
   ]
  },
  {
   "cell_type": "code",
   "execution_count": 24,
   "metadata": {
    "collapsed": false
   },
   "outputs": [
    {
     "name": "stdout",
     "output_type": "stream",
     "text": [
      "\u001b[0m\u001b[01;34mbase_data\u001b[0m/                  \u001b[01;34mtest_stg1\u001b[0m/     \u001b[01;31mtrain.zip\u001b[0m\r\n",
      "sample_submission_stg1.csv  \u001b[01;31mtest_stg1.zip\u001b[0m  \u001b[01;34mwork_data\u001b[0m/\r\n"
     ]
    }
   ],
   "source": [
    "#%cd data\n",
    "%ls"
   ]
  },
  {
   "cell_type": "code",
   "execution_count": 66,
   "metadata": {
    "collapsed": true
   },
   "outputs": [],
   "source": [
    "def copy_train_valid(new_path, sample=True):    \n",
    "    path = \"base_data\"\n",
    "    label_dirs = os.listdir(path)\n",
    "    print(label_dirs)\n",
    "    for dir_name in label_dirs:\n",
    "        train_valid_split('{}/{}'.format(path, dir_name), new_path, sample=sample)"
   ]
  },
  {
   "cell_type": "code",
   "execution_count": null,
   "metadata": {
    "collapsed": false
   },
   "outputs": [
    {
     "name": "stdout",
     "output_type": "stream",
     "text": [
      "['OTHER', 'SHARK', 'DOL', 'ALB', 'LAG', 'NoF', 'BET', 'YFT']\n"
     ]
    }
   ],
   "source": [
    "copy_train_valid(\"work_data\", False)\n",
    "copy_train_valid(\"work_data/sample\")"
   ]
  },
  {
   "cell_type": "code",
   "execution_count": null,
   "metadata": {
    "collapsed": true
   },
   "outputs": [],
   "source": []
  },
  {
   "cell_type": "code",
   "execution_count": null,
   "metadata": {
    "collapsed": true
   },
   "outputs": [],
   "source": []
  }
 ],
 "metadata": {
  "kernelspec": {
   "display_name": "Python 2",
   "language": "python",
   "name": "python2"
  },
  "language_info": {
   "codemirror_mode": {
    "name": "ipython",
    "version": 2
   },
   "file_extension": ".py",
   "mimetype": "text/x-python",
   "name": "python",
   "nbconvert_exporter": "python",
   "pygments_lexer": "ipython2",
   "version": "2.7.12"
  }
 },
 "nbformat": 4,
 "nbformat_minor": 1
}
